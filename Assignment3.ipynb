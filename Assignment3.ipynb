{
 "cells": [
  {
   "cell_type": "code",
   "execution_count": 24,
   "metadata": {
    "collapsed": true,
    "ExecuteTime": {
     "end_time": "2023-05-02T02:18:07.773993600Z",
     "start_time": "2023-05-02T02:18:07.747036900Z"
    }
   },
   "outputs": [
    {
     "name": "stdout",
     "output_type": "stream",
     "text": [
      "[]\n"
     ]
    }
   ],
   "source": [
    "import os\n",
    "import pandas as pd\n",
    "from sklearn.model_selection import train_test_split\n",
    "\n",
    "emotion_folders = ['angry', 'fear', 'happy', 'sad']\n",
    "data = []\n",
    "for emotion in emotion_folders:\n",
    "    folder_path = os.path.join(emotion)\n",
    "    files = os.listdir(folder_path)\n",
    "    for file in files:\n",
    "        data.append([file, emotion])\n",
    "\n",
    "df = pd.DataFrame(data, columns=['file', 'emotion'])\n",
    "train_ratio = 0.7\n",
    "train_df, test_df = train_test_split(df, train_size=train_ratio, random_state=42)\n",
    "train_test_folders = ['train', 'test']\n",
    "\n",
    "for emotion in emotion_folders:\n",
    "    for tt in train_test_folders:\n",
    "        directory = os.path.join( f'{emotion}_{tt}')\n",
    "        if not os.path.exists(directory):\n",
    "            os.makedirs(directory)\n",
    "\n",
    "for index, row in train_df.iterrows():\n",
    "    os.rename(os.path.join( row['emotion'], row['file']), os.path.join( f'{row[\"emotion\"]}_train', row['file']))\n",
    "\n",
    "for index, row in test_df.iterrows():\n",
    "    os.rename(os.path.join( row['emotion'], row['file']), os.path.join( f'{row[\"emotion\"]}_test', row['file']))"
   ]
  },
  {
   "cell_type": "markdown",
   "source": [],
   "metadata": {
    "collapsed": false
   }
  },
  {
   "cell_type": "markdown",
   "source": [],
   "metadata": {
    "collapsed": false
   }
  }
 ],
 "metadata": {
  "kernelspec": {
   "display_name": "Python 3",
   "language": "python",
   "name": "python3"
  },
  "language_info": {
   "codemirror_mode": {
    "name": "ipython",
    "version": 2
   },
   "file_extension": ".py",
   "mimetype": "text/x-python",
   "name": "python",
   "nbconvert_exporter": "python",
   "pygments_lexer": "ipython2",
   "version": "2.7.6"
  }
 },
 "nbformat": 4,
 "nbformat_minor": 0
}
